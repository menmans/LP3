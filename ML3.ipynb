{
  "nbformat": 4,
  "nbformat_minor": 0,
  "metadata": {
    "colab": {
      "provenance": []
    },
    "kernelspec": {
      "name": "python3",
      "display_name": "Python 3"
    },
    "language_info": {
      "name": "python"
    }
  },
  "cells": [
    {
      "cell_type": "code",
      "execution_count": null,
      "metadata": {
        "id": "fCYp3DcUrdUH"
      },
      "outputs": [],
      "source": [
        "def gradient_desecent (starting_point,learning_rate,Num_iteration):\n",
        "  x=starting_point\n",
        "  for i in range (Num_iteration):\n",
        "    gradient = 2 * (x+3) # Calculate the gradient\n",
        "    x = x - learning_rate*gradient # Update Xnew,formula xnew = xold - learning\n",
        "    print(f\"iteration {i+1}: x = {x} , y = {(x+3)**2}\")\n",
        "\n",
        "  return x"
      ]
    },
    {
      "cell_type": "code",
      "source": [
        "# Parameters\n",
        "starting_point=2\n",
        "learning_rate=0.1\n",
        "Num_iteration=64"
      ],
      "metadata": {
        "id": "4NvZcZjpshE-"
      },
      "execution_count": null,
      "outputs": []
    },
    {
      "cell_type": "code",
      "source": [
        "#final X\n",
        "final_x = gradient_desecent (starting_point,learning_rate,Num_iteration)\n",
        "print(f\"Local minimum found at x: x = {final_x} , y = {(final_x+3)**2}\")"
      ],
      "metadata": {
        "colab": {
          "base_uri": "https://localhost:8080/"
        },
        "id": "KBA76CREsjYt",
        "outputId": "400db9d7-75e6-4d47-a98e-7559bbb19a33"
      },
      "execution_count": null,
      "outputs": [
        {
          "output_type": "stream",
          "name": "stdout",
          "text": [
            "iteration 1: x = 1.1 , y = 16.81\n",
            "iteration 2: x = 0.3620000000000002 , y = 11.303044\n",
            "iteration 3: x = -0.24315999999999982 , y = 7.600166785600003\n",
            "iteration 4: x = -0.7393911999999998 , y = 5.11035214663744\n",
            "iteration 5: x = -1.1463007839999997 , y = 3.436200783399016\n",
            "iteration 6: x = -1.4799666428799998 , y = 2.3105014067574983\n",
            "iteration 7: x = -1.7535726471615998 , y = 1.5535811459037419\n",
            "iteration 8: x = -1.9779295706725117 , y = 1.0446279625056762\n",
            "iteration 9: x = -2.16190224795146 , y = 0.7024078419888163\n",
            "iteration 10: x = -2.312759843320197 , y = 0.47229903295328013\n",
            "iteration 11: x = -2.4364630715225615 , y = 0.3175738697577857\n",
            "iteration 12: x = -2.5378997186485006 , y = 0.21353667002513488\n",
            "iteration 13: x = -2.6210777692917704 , y = 0.14358205692490078\n",
            "iteration 14: x = -2.6892837708192516 , y = 0.09654457507630335\n",
            "iteration 15: x = -2.7452126920717865 , y = 0.06491657228130628\n",
            "iteration 16: x = -2.791074407498865 , y = 0.04364990320195035\n",
            "iteration 17: x = -2.828681014149069 , y = 0.029350194912991488\n",
            "iteration 18: x = -2.8595184316022366 , y = 0.01973507105949547\n",
            "iteration 19: x = -2.884805113913834 , y = 0.013269861780404764\n",
            "iteration 20: x = -2.905540193409344 , y = 0.00892265506114416\n",
            "iteration 21: x = -2.922542958595662 , y = 0.005999593263113342\n",
            "iteration 22: x = -2.936485226048443 , y = 0.0040341265101174004\n",
            "iteration 23: x = -2.947917885359723 , y = 0.002712546665402934\n",
            "iteration 24: x = -2.957292665994973 , y = 0.0018239163778169182\n",
            "iteration 25: x = -2.964979986115878 , y = 0.0012264013724441064\n",
            "iteration 26: x = -2.97128358861502 , y = 0.0008246322828314116\n",
            "iteration 27: x = -2.9764525426643162 , y = 0.0005544827469758465\n",
            "iteration 28: x = -2.9806910849847394 , y = 0.0003728341990665544\n",
            "iteration 29: x = -2.9841666896874863 , y = 0.00025069371545235173\n",
            "iteration 30: x = -2.987016685543739 , y = 0.00016856645427016157\n",
            "iteration 31: x = -2.989353682145866 , y = 0.00011334408385125361\n",
            "iteration 32: x = -2.99127001935961 , y = 7.621256198158401e-05\n",
            "iteration 33: x = -2.99284141587488 , y = 5.1245326676417594e-05\n",
            "iteration 34: x = -2.9941299610174017 , y = 3.4457357657223715e-05\n",
            "iteration 35: x = -2.9951865680342693 , y = 2.316912728871808e-05\n",
            "iteration 36: x = -2.9960529857881006 , y = 1.557892118893551e-05\n",
            "iteration 37: x = -2.9967634483462424 , y = 1.0475266607440926e-05\n",
            "iteration 38: x = -2.997346027643919 , y = 7.043569266842147e-06\n",
            "iteration 39: x = -2.9978237426680137 , y = 4.736095975024312e-06\n",
            "iteration 40: x = -2.9982154689877714 , y = 3.1845509336057765e-06\n",
            "iteration 41: x = -2.9985366845699724 , y = 2.1412920477569923e-06\n",
            "iteration 42: x = -2.9988000813473774 , y = 1.4398047729116098e-06\n",
            "iteration 43: x = -2.9990160667048493 , y = 9.681247293060634e-07\n",
            "iteration 44: x = -2.9991931746979765 , y = 6.509670679852682e-07\n",
            "iteration 45: x = -2.9993384032523407 , y = 4.3771025651337655e-07\n",
            "iteration 46: x = -2.9994574906669196 , y = 2.943163764793631e-07\n",
            "iteration 47: x = -2.9995551423468743 , y = 1.97898331544542e-07\n",
            "iteration 48: x = -2.999635216724437 , y = 1.3306683813038805e-07\n",
            "iteration 49: x = -2.9997008777140386 , y = 8.947414195877727e-08\n",
            "iteration 50: x = -2.9997547197255114 , y = 6.016241305318206e-08\n",
            "iteration 51: x = -2.9997988701749194 , y = 4.045320653694532e-08\n",
            "iteration 52: x = -2.999835073543434 , y = 2.7200736075403947e-08\n",
            "iteration 53: x = -2.999864760305616 , y = 1.828977493710882e-08\n",
            "iteration 54: x = -2.999889103450605 , y = 1.2298044667717882e-08\n",
            "iteration 55: x = -2.999909064829496 , y = 8.269205234563812e-09\n",
            "iteration 56: x = -2.999925433160187 , y = 5.560213599696865e-09\n",
            "iteration 57: x = -2.9999388551913535 , y = 3.738687624416621e-09\n",
            "iteration 58: x = -2.9999498612569098 , y = 2.5138935586684237e-09\n",
            "iteration 59: x = -2.999958886230666 , y = 1.690342028842075e-09\n",
            "iteration 60: x = -2.9999662867091463 , y = 1.1365859801838295e-09\n",
            "iteration 61: x = -2.9999723551015 , y = 7.642404130839552e-10\n",
            "iteration 62: x = -2.99997733118323 , y = 5.138752537487925e-10\n",
            "iteration 63: x = -2.9999814115702486 , y = 3.4552972062432024e-10\n",
            "iteration 64: x = -2.9999847574876037 , y = 2.3233418415022978e-10\n",
            "Local minimum found at x: x = -2.9999847574876037 , y = 2.3233418415022978e-10\n"
          ]
        }
      ]
    }
  ]
}